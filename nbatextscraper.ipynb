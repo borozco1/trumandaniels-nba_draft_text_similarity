{
 "cells": [
  {
   "cell_type": "code",
   "execution_count": 13,
   "metadata": {},
   "outputs": [],
   "source": [
    "import pandas as pd\n",
    "import requests\n",
    "import bs4 as beautifulsoup\n",
    "from bs4 import BeautifulSoup\n",
    "#https://www.nbadraft.net/search-players/ Website we will iterate through\n",
    "\n",
    "pd.set_option('display.max_rows', 500)\n",
    "pd.set_option('display.max_columns', 500)\n",
    "\n",
    "base_url = 'http://www.nbadraft.net'\n"
   ]
  },
  {
   "cell_type": "code",
   "execution_count": 9,
   "metadata": {},
   "outputs": [],
   "source": [
    "def ScrapeProfile():\n",
    "    pass\n",
    "\n",
    "url_list = []\n",
    "\n",
    "for i in range(215):\n",
    "    url_link = base_url + \"/search-players/\"\n",
    "    if i == 0:\n",
    "        url_list.append(url_link)\n",
    "    else: \n",
    "        url_link = url_link + \"?offset=\"+str(i)\n",
    "        url_list.append(url_link)\n",
    "    \n",
    "#https://www.nbadraft.net/search-players/ ~ first page\n",
    "#https://www.nbadraft.net/search-players/?offset=210 ~ all other pages\n",
    "\n",
    "player_links = []"
   ]
  },
  {
   "cell_type": "code",
   "execution_count": 11,
   "metadata": {},
   "outputs": [
    {
     "data": {
      "text/plain": [
       "['http://www.nbadraft.net/search-players/',\n",
       " 'http://www.nbadraft.net/search-players/?offset=1',\n",
       " 'http://www.nbadraft.net/search-players/?offset=2',\n",
       " 'http://www.nbadraft.net/search-players/?offset=3',\n",
       " 'http://www.nbadraft.net/search-players/?offset=4']"
      ]
     },
     "execution_count": 11,
     "metadata": {},
     "output_type": "execute_result"
    }
   ],
   "source": [
    "url_list[:5]"
   ]
  },
  {
   "cell_type": "code",
   "execution_count": 14,
   "metadata": {},
   "outputs": [
    {
     "name": "stderr",
     "output_type": "stream",
     "text": [
      "/home/truman/anaconda3/envs/ufc/lib/python3.6/site-packages/bs4/__init__.py:389: UserWarning: \"http://www.nbadraft.net/search-players/\" looks like a URL. Beautiful Soup is not an HTTP client. You should probably use an HTTP client like requests to get the document behind the URL, and feed that document to Beautiful Soup.\n",
      "  ' that document to Beautiful Soup.' % decoded_markup\n"
     ]
    }
   ],
   "source": [
    "soup = BeautifulSoup(url_list[0], \"html.parser\")\n",
    "\n",
    "for "
   ]
  },
  {
   "cell_type": "code",
   "execution_count": null,
   "metadata": {},
   "outputs": [],
   "source": [
    "for pages in url_list:\n",
    "    for player_link in player_links:\n",
    "        ScrapeProfile()"
   ]
  }
 ],
 "metadata": {
  "kernelspec": {
   "display_name": "Python 3",
   "language": "python",
   "name": "python3"
  },
  "language_info": {
   "codemirror_mode": {
    "name": "ipython",
    "version": 3
   },
   "file_extension": ".py",
   "mimetype": "text/x-python",
   "name": "python",
   "nbconvert_exporter": "python",
   "pygments_lexer": "ipython3",
   "version": "3.6.8"
  }
 },
 "nbformat": 4,
 "nbformat_minor": 2
}
