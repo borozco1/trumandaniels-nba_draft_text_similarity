{
 "cells": [
  {
   "cell_type": "code",
   "execution_count": 13,
   "metadata": {},
   "outputs": [],
   "source": [
    "import pandas as pd\n",
    "import requests\n",
    "import bs4 as beautifulsoup\n",
    "from bs4 import BeautifulSoup\n",
    "#https://www.nbadraft.net/search-players/ Website we will iterate through\n",
    "\n",
    "pd.set_option('display.max_rows', 500)\n",
    "pd.set_option('display.max_columns', 500)\n",
    "\n",
    "base_url = 'http://www.nbadraft.net'\n"
   ]
  },
  {
   "cell_type": "code",
   "execution_count": 45,
   "metadata": {},
   "outputs": [],
   "source": [
    "def FetchURL(url):\n",
    "    #print(url)\n",
    "    #raise Exception(\"Stop\")\n",
    "    r = requests.get(url)\n",
    "    return r.content"
   ]
  },
  {
   "cell_type": "code",
   "execution_count": 66,
   "metadata": {},
   "outputs": [],
   "source": [
    "url_list = []\n",
    "\n",
    "\n",
    "#Creating a list of all links to pages where tables of player links are stored\n",
    "\n",
    "for i in range(10):\n",
    "    url_link = base_url + \"/search-players/\"\n",
    "    if i == 0:\n",
    "        url_list.append(url_link)\n",
    "    else: \n",
    "        url_link = url_link + \"?offset=\"+str(i)\n",
    "        url_list.append(url_link)\n",
    "    \n",
    "#https://www.nbadraft.net/search-players/ ~ first page\n",
    "#https://www.nbadraft.net/search-players/?offset=210 ~ all other pages\n",
    "\n",
    "player_links = []"
   ]
  },
  {
   "cell_type": "code",
   "execution_count": 11,
   "metadata": {},
   "outputs": [
    {
     "data": {
      "text/plain": [
       "['http://www.nbadraft.net/search-players/',\n",
       " 'http://www.nbadraft.net/search-players/?offset=1',\n",
       " 'http://www.nbadraft.net/search-players/?offset=2',\n",
       " 'http://www.nbadraft.net/search-players/?offset=3',\n",
       " 'http://www.nbadraft.net/search-players/?offset=4']"
      ]
     },
     "execution_count": 11,
     "metadata": {},
     "output_type": "execute_result"
    }
   ],
   "source": [
    "url_list[:5]"
   ]
  },
  {
   "cell_type": "code",
   "execution_count": 69,
   "metadata": {},
   "outputs": [
    {
     "name": "stdout",
     "output_type": "stream",
     "text": [
      "Scraping page #: 0\n",
      "Scraping page #: 1\n",
      "Scraping page #: 2\n",
      "Scraping page #: 3\n",
      "Scraping page #: 4\n",
      "Scraping page #: 5\n",
      "Scraping page #: 6\n",
      "Scraping page #: 7\n",
      "Scraping page #: 8\n",
      "Scraping page #: 9\n"
     ]
    }
   ],
   "source": [
    "def GetPlayerURLs(url):\n",
    "    #Creates the set of player urls of a single page\n",
    "    soup = BeautifulSoup(FetchURL(url), \"html.parser\")\n",
    "\n",
    "    player_list = []\n",
    "\n",
    "    for a in soup.find_all(href=True):\n",
    "        #print(\"Found the URL:\", a[\"href\"], a.text)\n",
    "        if \"https://www.nbadraft.net/players/\" in a[\"href\"]:\n",
    "            player_list.append(a[\"href\"])\n",
    "\n",
    "    player_set = set(player_list) \n",
    "    \n",
    "    return player_set\n",
    "\n",
    "def AllPlayerURLs(all_urls=url_list):\n",
    "    \"\"\"\n",
    "    Creates the set of all player urls, from all pages\n",
    "    \"\"\"\n",
    "    complete_set = set()\n",
    "    \n",
    "    count_page = 0 \n",
    "    for url in all_urls:\n",
    "        print(\"Scraping page #:\", count_page)\n",
    "        complete_set.update(GetPlayerURLs(url))\n",
    "        count_page+=1\n",
    "    \n",
    "    \n",
    "    return complete_set\n",
    "    \n",
    "\n",
    "player_url_list = list(AllPlayerURLs())"
   ]
  },
  {
   "cell_type": "code",
   "execution_count": 83,
   "metadata": {},
   "outputs": [],
   "source": [
    "mydf = pd.DataFrame(columns=[\"Height\", \"Weight\"])"
   ]
  },
  {
   "cell_type": "code",
   "execution_count": 84,
   "metadata": {},
   "outputs": [
    {
     "data": {
      "text/html": [
       "<div>\n",
       "<style scoped>\n",
       "    .dataframe tbody tr th:only-of-type {\n",
       "        vertical-align: middle;\n",
       "    }\n",
       "\n",
       "    .dataframe tbody tr th {\n",
       "        vertical-align: top;\n",
       "    }\n",
       "\n",
       "    .dataframe thead th {\n",
       "        text-align: right;\n",
       "    }\n",
       "</style>\n",
       "<table border=\"1\" class=\"dataframe\">\n",
       "  <thead>\n",
       "    <tr style=\"text-align: right;\">\n",
       "      <th></th>\n",
       "      <th>Height</th>\n",
       "      <th>Weight</th>\n",
       "    </tr>\n",
       "  </thead>\n",
       "  <tbody>\n",
       "  </tbody>\n",
       "</table>\n",
       "</div>"
      ],
      "text/plain": [
       "Empty DataFrame\n",
       "Columns: [Height, Weight]\n",
       "Index: []"
      ]
     },
     "execution_count": 84,
     "metadata": {},
     "output_type": "execute_result"
    }
   ],
   "source": [
    "mydf"
   ]
  },
  {
   "cell_type": "code",
   "execution_count": 93,
   "metadata": {},
   "outputs": [
    {
     "name": "stdout",
     "output_type": "stream",
     "text": [
      "['9 - Abdoulaye Loum ', '6-10,', '230', 'Power Forward/Center', 'France ', 'International  ', 'Birthday ', '04/03/91 (29.1 yrs)', 'Hometown ', 'Mont-de-Marsan, France ', 'Team Site Profile ', 'Team Site Profile', 'Statistics ', 'Statistics', 'Athleticism ', '8 ', 'Size ', '9 ', 'Defense ', '7 ', 'Strength ', '7 ', 'Quickness ', '8 ', 'Leadership ', '6 ', 'Jump Shot ', '7 ', 'NBA Ready ', '6 ', 'Rebounding ', '7 ', 'Potential ', '7 ', 'Post Skills ', '6 ', 'Intangibles ', '6 ', '84', 'Overall:'] 0\n"
     ]
    },
    {
     "data": {
      "text/html": [
       "<div>\n",
       "<style scoped>\n",
       "    .dataframe tbody tr th:only-of-type {\n",
       "        vertical-align: middle;\n",
       "    }\n",
       "\n",
       "    .dataframe tbody tr th {\n",
       "        vertical-align: top;\n",
       "    }\n",
       "\n",
       "    .dataframe thead th {\n",
       "        text-align: right;\n",
       "    }\n",
       "</style>\n",
       "<table border=\"1\" class=\"dataframe\">\n",
       "  <thead>\n",
       "    <tr style=\"text-align: right;\">\n",
       "      <th></th>\n",
       "      <th>Height</th>\n",
       "      <th>Weight</th>\n",
       "    </tr>\n",
       "  </thead>\n",
       "  <tbody>\n",
       "    <tr>\n",
       "      <th>0</th>\n",
       "      <td>6-10,</td>\n",
       "      <td>230</td>\n",
       "    </tr>\n",
       "  </tbody>\n",
       "</table>\n",
       "</div>"
      ],
      "text/plain": [
       "  Height Weight\n",
       "0  6-10,    230"
      ]
     },
     "execution_count": 93,
     "metadata": {},
     "output_type": "execute_result"
    }
   ],
   "source": [
    "def ScrapeProfile(url, df=mydf):\n",
    "    soup = BeautifulSoup(FetchURL(url), \"html.parser\")\n",
    "    count=0\n",
    "    profile_data = []\n",
    "    for i in soup.find_all('div', {'class': 'wpb_wrapper'}):\n",
    "        player_soup = list(filter(None, i.text.split(\"\\n\")))\n",
    "        print(player_soup, count)\n",
    "        #profile_data.append(i.text)\n",
    "        df = df.append({\"Height\": player_soup[1], \"Weight\":player_soup[2]},ignore_index=True)\n",
    "        count+=1\n",
    "        return df\n",
    "    \n",
    "        raise Exception()\n",
    "        \n",
    "    return profile_data\n",
    "    \n",
    "ScrapeProfile(\"https://www.nbadraft.net/players/abdoulaye-loum/\")"
   ]
  },
  {
   "cell_type": "code",
   "execution_count": null,
   "metadata": {},
   "outputs": [],
   "source": [
    "for pages in url_list:\n",
    "    for player_link in player_links:\n",
    "        ScrapeProfile()"
   ]
  }
 ],
 "metadata": {
  "kernelspec": {
   "display_name": "Python 3",
   "language": "python",
   "name": "python3"
  },
  "language_info": {
   "codemirror_mode": {
    "name": "ipython",
    "version": 3
   },
   "file_extension": ".py",
   "mimetype": "text/x-python",
   "name": "python",
   "nbconvert_exporter": "python",
   "pygments_lexer": "ipython3",
   "version": "3.6.8"
  }
 },
 "nbformat": 4,
 "nbformat_minor": 2
}
