{
 "cells": [
  {
   "cell_type": "markdown",
   "metadata": {},
   "source": [
    "### Latent Semantic Analysis\n",
    "\n",
    "#### Natural Language Processing ~ A family of techniques used to derive meaning from data\n",
    "\n",
    "#### Document ~ A collection of words--the or \"rows\" of our dataset\n",
    "\n",
    "#### Body ~ A collection of documents--our entire dataset\n",
    "\n",
    "#### Dictionary ~ The set of all words that appear in at least one document in our body \n",
    "\n",
    "#### Topic ~ A collection of words that co-occur \n",
    "\n",
    "#### Latent ~ Features that are \"hidden\" in the data\n",
    "\n",
    "Unsupervised\n",
    "\n",
    "aim - to create representations of the text data in terms of these topics or latent features\n",
    "\n",
    "2 steps\n",
    "1) Document Term Matrix\n",
    "2) Singular Value Decomposition ~ performed on Document Term Matrix\n",
    "\n",
    "You can represent documents as vectors (i.e. you can plot data points on a chart with text data if you turn it into words)\n",
    "\n",
    "Output - topic encoded data\n",
    "\n",
    "source: https://www.youtube.com/watch?v=hB51kkus-Rc\n",
    "\n",
    "\n",
    "Rows = The entire sentence (Document). \n",
    "Coumns = 1 if document contains the column word (contained in the set of all words--Dictionary)\n",
    "\n",
    "Then perform SVD (same idea as PCA)\n",
    "\n",
    "The latent features represent topics or collections of words that co-occur"
   ]
  },
  {
   "cell_type": "code",
   "execution_count": 8,
   "metadata": {},
   "outputs": [
    {
     "data": {
      "text/plain": [
       "matrix([[1, 4, 1, 1, 1, 2]], dtype=int64)"
      ]
     },
     "execution_count": 8,
     "metadata": {},
     "output_type": "execute_result"
    }
   ],
   "source": [
    "from sklearn.feature_extraction.text import CountVectorizer\n",
    "vectorizer = CountVectorizer\n",
    "test = \"test string is bing stratus is is the is the \"\n",
    "test = [test]\n",
    "bag_of_words =  vectorizer().fit_transform(test)\n",
    "bag_of_words.todense()"
   ]
  },
  {
   "cell_type": "markdown",
   "metadata": {},
   "source": [
    "Documents ~ Players\n",
    " ~ scouting report\n",
    " \n",
    " \n",
    "use truncated SVD in sci-kit learn"
   ]
  }
 ],
 "metadata": {
  "kernelspec": {
   "display_name": "Python 3",
   "language": "python",
   "name": "python3"
  },
  "language_info": {
   "codemirror_mode": {
    "name": "ipython",
    "version": 3
   },
   "file_extension": ".py",
   "mimetype": "text/x-python",
   "name": "python",
   "nbconvert_exporter": "python",
   "pygments_lexer": "ipython3",
   "version": "3.6.8"
  }
 },
 "nbformat": 4,
 "nbformat_minor": 2
}
